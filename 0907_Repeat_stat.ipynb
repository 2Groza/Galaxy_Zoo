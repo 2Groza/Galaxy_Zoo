{
 "cells": [
  {
   "cell_type": "markdown",
   "metadata": {},
   "source": [
    "# Histograph of labeled dataset\n",
    "<img src=\"https://github.com/tensorstone/markdownfigs/blob/master/labeleddata.png?raw=true\" width=450 height=450 />\n"
   ]
  },
  {
   "cell_type": "markdown",
   "metadata": {},
   "source": [
    "# Histograph of unlabeled dataset\n",
    "<img src=\"https://github.com/tensorstone/markdownfigs/blob/master/Unlabeleddata.png?raw=true\" width=450 height=450 />"
   ]
  },
  {
   "cell_type": "markdown",
   "metadata": {},
   "source": [
    "# Histograph of hidden variable(training on unlabeled data)\n",
    "<img src=\"https://github.com/tensorstone/markdownfigs/blob/master/hidden_unlabeleddata.png?raw=true\" width=450 height=450 />"
   ]
  },
  {
   "cell_type": "markdown",
   "metadata": {},
   "source": [
    "# Histograph of hidden variable(testing on labeled data)\n",
    "<img src=\"https://github.com/tensorstone/markdownfigs/blob/master/hidden_labeleddata.png?raw=true\" width=450 height=450 />"
   ]
  },
  {
   "cell_type": "markdown",
   "metadata": {},
   "source": [
    "# ROC & AUC of this \"transfer learning\" result\n",
    "<img src=\"https://github.com/tensorstone/markdownfigs/blob/master/AUC.png?raw=true\" width=450 height=450 />\n",
    "\n",
    "## maxAUC = 0.9031"
   ]
  },
  {
   "cell_type": "code",
   "execution_count": 3,
   "metadata": {},
   "outputs": [],
   "source": [
    "import matplotlib.pyplot as plt"
   ]
  },
  {
   "cell_type": "code",
   "execution_count": 17,
   "metadata": {
    "collapsed": true
   },
   "outputs": [],
   "source": [
    "AUC = [0.879043679012,0.886272268787,0.890919953397,0.773150419961,0.89166975345,0.827281268951,0.771247356016,0.888864434686,0.799541161734,0.903132905401,0.760635098955,0.891322272852,0.769350151315,0.878090224475,0.74460198892,0.890504931286,0.747797885765,0.889580360988,0.887470026308,0.762841081206,0.88891968552,0.893462201288,0.82428980477,0.758447632829,0.778544837677,0.75496568589,0.768120488383,0.749766042242,0.766105320632,0.891985076873,0.896809912045,0.878839406561,0.882481452748,0.754556385696,0.893644913554,0.873333205468,0.888899658809,0.895502156385,0.886684269726,0.765688765047,0.878885044574,0.771850926749,0.835383435296,0.889557244442,0.772454360156,0.863969608105,0.889283393476,0.889273391564,0.887185898779,0.742216681779]"
   ]
  },
  {
   "cell_type": "code",
   "execution_count": 18,
   "metadata": {},
   "outputs": [],
   "source": [
    "AUC_2 = [0.75494300421,0.894611208073,0.888220307002,0.889302619118,0.753221347934,0.886774790459,0.764217110785,0.893785054755,0.749883204222,0.891011481187,0.887326863935,0.805395964922,0.881312419252,0.889465625101,0.770822286218,0.89172672086,0.892462170344,0.890677412763,0.891888147593,0.855838992386,0.782320845394,0.889674108882,0.889881104965,0.891901674206,0.891978462337,0.777865508758,0.902446961946,0.886694866717,0.889169069567,0.890144793806,0.891613198019,0.850282850397,0.885640180018,0.889542733659,0.892375174312,0.886533645973,0.887121401326,0.889529710575,0.760916205312,0.7685481216,0.771526768686,0.887884796655,0.791771370125,0.781070972649,0.876872623344,0.828194326751,0.773933681787,0.774031366361,0.885967313478,0.779551048292]"
   ]
  },
  {
   "cell_type": "code",
   "execution_count": 23,
   "metadata": {
    "collapsed": true
   },
   "outputs": [],
   "source": [
    "AUC_total=[0.75494300421,0.894611208073,0.888220307002,0.889302619118,0.753221347934,0.886774790459,0.764217110785,0.893785054755,0.749883204222,0.891011481187,0.887326863935,0.805395964922,0.881312419252,0.889465625101,0.770822286218,0.89172672086,0.892462170344,0.890677412763,0.891888147593,0.855838992386,0.782320845394,0.889674108882,0.889881104965,0.891901674206,0.891978462337,0.777865508758,0.902446961946,0.886694866717,0.889169069567,0.890144793806,0.891613198019,0.850282850397,0.885640180018,0.889542733659,0.892375174312,0.886533645973,0.887121401326,0.889529710575,0.760916205312,0.7685481216,0.771526768686,0.887884796655,0.791771370125,0.781070972649,0.876872623344,0.828194326751,0.773933681787,0.774031366361,0.885967313478,0.779551048292,0.879043679012,0.886272268787,0.890919953397,0.773150419961,0.89166975345,0.827281268951,0.771247356016,0.888864434686,0.799541161734,0.903132905401,0.760635098955,0.891322272852,0.769350151315,0.878090224475,0.74460198892,0.890504931286,0.747797885765,0.889580360988,0.887470026308,0.762841081206,0.88891968552,0.893462201288,0.82428980477,0.758447632829,0.778544837677,0.75496568589,0.768120488383,0.749766042242,0.766105320632,0.891985076873,0.896809912045,0.878839406561,0.882481452748,0.754556385696,0.893644913554,0.873333205468,0.888899658809,0.895502156385,0.886684269726,0.765688765047,0.878885044574,0.771850926749,0.835383435296,0.889557244442,0.772454360156,0.863969608105,0.889283393476,0.889273391564,0.887185898779,0.742216681779]"
   ]
  },
  {
   "cell_type": "code",
   "execution_count": 26,
   "metadata": {},
   "outputs": [
    {
     "data": {
      "image/png": "[encoded data removed]",
      "text/plain": [
       "<matplotlib.figure.Figure at 0x7f3b641555f8>"
      ]
     },
     "metadata": {},
     "output_type": "display_data"
    }
   ],
   "source": [
    "plt.hist(AUC_total,18)\n",
    "plt.show()"
   ]
  },
  {
   "cell_type": "code",
   "execution_count": 27,
   "metadata": {
    "collapsed": true
   },
   "outputs": [],
   "source": [
    "import numpy as np"
   ]
  },
  {
   "cell_type": "code",
   "execution_count": 28,
   "metadata": {},
   "outputs": [
    {
     "data": {
      "text/plain": [
       "0.84312295727544007"
      ]
     },
     "execution_count": 28,
     "metadata": {},
     "output_type": "execute_result"
    }
   ],
   "source": [
    "np.mean(AUC_total)"
   ]
  },
  {
   "cell_type": "code",
   "execution_count": 29,
   "metadata": {},
   "outputs": [
    {
     "data": {
      "text/plain": [
       "0.903132905401"
      ]
     },
     "execution_count": 29,
     "metadata": {},
     "output_type": "execute_result"
    }
   ],
   "source": [
    "np.max(AUC_total)"
   ]
  },
  {
   "cell_type": "code",
   "execution_count": 30,
   "metadata": {},
   "outputs": [
    {
     "data": {
      "text/plain": [
       "0.74221668177900002"
      ]
     },
     "execution_count": 30,
     "metadata": {},
     "output_type": "execute_result"
    }
   ],
   "source": [
    "np.min(AUC_total)"
   ]
  },
  {
   "cell_type": "code",
   "execution_count": null,
   "metadata": {
    "collapsed": true
   },
   "outputs": [],
   "source": []
  }
 ],
 "metadata": {
  "kernelspec": {
   "display_name": "Python 3",
   "language": "python",
   "name": "python3"
  },
  "language_info": {
   "codemirror_mode": {
    "name": "ipython",
    "version": 3
   },
   "file_extension": ".py",
   "mimetype": "text/x-python",
   "name": "python",
   "nbconvert_exporter": "python",
   "pygments_lexer": "ipython3",
   "version": "3.6.2"
  }
 },
 "nbformat": 4,
 "nbformat_minor": 2
}
