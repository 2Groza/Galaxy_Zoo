{
 "cells": [
  {
   "cell_type": "code",
   "execution_count": 1,
   "metadata": {},
   "outputs": [
    {
     "name": "stderr",
     "output_type": "stream",
     "text": [
      "Using TensorFlow backend.\n"
     ]
    }
   ],
   "source": [
    "from time import time\n",
    "import pandas as pd\n",
    "import numpy as np\n",
    "from PIL import Image\n",
    "import keras.layers.advanced_activations\n",
    "import scipy\n",
    "import random\n",
    "import matplotlib.pyplot as plt  \n",
    "from scipy.stats import norm  \n",
    "import keras\n",
    "from keras.models import Sequential\n",
    "from keras.initializers import VarianceScaling,RandomNormal\n",
    "from keras.layers import Input, Dense, Dropout, Conv2D, MaxPooling2D\n",
    "from keras.layers import UpSampling2D, Reshape, Lambda, Flatten, Activation\n",
    "from keras.models import Model  \n",
    "from keras.optimizers import SGD, Adadelta, Adagrad,Adam\n",
    "from keras import backend as K  \n",
    "from keras import objectives  \n",
    "from keras.utils.vis_utils import plot_model  \n",
    "from keras.utils import np_utils, generic_utils\n",
    "import sys \n",
    "import tensorflow as tf\n",
    "from keras.callbacks import TensorBoard, ModelCheckpoint\n",
    "from keras.layers.normalization import BatchNormalization\n",
    "import matplotlib.pyplot as plt\n",
    "import os\n",
    "#os.environ['CUDA_VISIBLE_DEVICES'] = '0'\n",
    "import sklearn\n",
    "from mpl_toolkits.mplot3d import Axes3D\n",
    "from matplotlib.ticker import NullFormatter\n",
    "%matplotlib inline\n",
    "from sklearn import manifold, datasets,cluster\n",
    "from sklearn.utils import check_random_state"
   ]
  },
  {
   "cell_type": "code",
   "execution_count": 2,
   "metadata": {
    "collapsed": true
   },
   "outputs": [],
   "source": [
    "path = os.listdir('cstor/xsede/users/xs-haosun/SDSS_2000/')\n",
    "\n",
    "Obj_ID = []\n",
    "Image = []\n",
    "Class = []\n",
    "Redshift = []\n",
    "for i in range(len(path)):\n",
    "    path_now = path[i]\n",
    "    a = np.load('cstor/xsede/users/xs-haosun/SDSS_2000/'+str(path_now))\n",
    "    for j in range(a.shape[0]):\n",
    "        Obj_ID.append(a[j]['objID'])\n",
    "        Image.append(a[j]['image'])\n",
    "        Class.append(a[j]['class'])\n",
    "        Redshift.append(a[j]['z'])\n",
    "\n",
    "Obj_ID = np.asarray(Obj_ID)\n",
    "Image = np.asarray(Image)\n",
    "Class = np.asarray(Class)\n",
    "Redshift = np.asarray(Redshift)\n",
    "Class[Class=='STAR'] = 0\n",
    "Class[Class=='GALAXY'] = 1\n",
    "Class[Class=='QSO'] = 2\n",
    "Class = Class.astype(int)"
   ]
  },
  {
   "cell_type": "code",
   "execution_count": 3,
   "metadata": {},
   "outputs": [
    {
     "name": "stdout",
     "output_type": "stream",
     "text": [
      "815\n"
     ]
    }
   ],
   "source": [
    "Image_RGB = np.empty((len(Image),64,64,5))#(14142,64,64,3) RGB images\n",
    "for i in range(len(Image)):\n",
    "    #b[i] = np.stack((a[i][1][0],a[i][1][1],a[i][1][2],a[i][1][3],a[i][1][4]),axis=-1)\n",
    "    Image_RGB[i] = np.stack((Image[i][4],Image[i][3],Image[i][2],Image[i][1],Image[i][0]),axis=-1)\n",
    "\n",
    "\n",
    "for i in range(len(Image_RGB)):\n",
    "    if True in np.isnan(Image_RGB[i]).reshape(64*64*5):\n",
    "        print(i)\n",
    "        Image_RGB[i][np.isnan(Image_RGB[i])==True]=np.mean(Image_RGB[i-1])"
   ]
  },
  {
   "cell_type": "code",
   "execution_count": 40,
   "metadata": {},
   "outputs": [
    {
     "data": {
      "text/plain": [
       "(14142, 64, 64, 5)"
      ]
     },
     "execution_count": 40,
     "metadata": {},
     "output_type": "execute_result"
    }
   ],
   "source": [
    "Image_RGB.shape"
   ]
  },
  {
   "cell_type": "code",
   "execution_count": 4,
   "metadata": {
    "collapsed": true
   },
   "outputs": [],
   "source": [
    "show_Image_RGB = (Image_RGB - np.min(Image_RGB))/(np.max(Image_RGB) - np.min(Image_RGB))*2 - np.ones_like(Image_RGB)\n",
    "Image_RGB -= np.mean(Image_RGB)\n",
    "Image_RGB /= np.std((Image_RGB))"
   ]
  },
  {
   "cell_type": "code",
   "execution_count": 5,
   "metadata": {},
   "outputs": [
    {
     "name": "stdout",
     "output_type": "stream",
     "text": [
      "train_data.shape: (14142, 64, 64, 5)\n",
      "train_label.shape: (14142, 3)\n"
     ]
    }
   ],
   "source": [
    "label = np_utils.to_categorical(Class, 3)\n",
    "data = Image_RGB\n",
    "index = [i for i in range(len(data))]\n",
    "random.shuffle(index)\n",
    "train_data = data[index]\n",
    "train_label = label[index]\n",
    "Class = Class[index]\n",
    "Redshift = Redshift[index]\n",
    "show_Image_RGB = show_Image_RGB[index]\n",
    "print('train_data.shape:',train_data.shape)\n",
    "print('train_label.shape:',train_label.shape)"
   ]
  },
  {
   "cell_type": "code",
   "execution_count": 67,
   "metadata": {
    "collapsed": true
   },
   "outputs": [],
   "source": [
    "batch_size =100\n",
    "latent_dim = 3\n",
    "nb_epoch = 50\n",
    "epsilon_std = 2.0\n",
    "intermediate_dim =512\n",
    "original_dim = 64*64\n",
    "\n",
    "#USE = 'autoencoder'\n",
    "USE = 'vae'\n",
    "#encoder:\n",
    "\n",
    "input_img = Input(shape=(64,64,5))\n",
    "\n",
    "conv_1 = Conv2D(40, (3, 3), activation='relu', padding='same',kernel_initializer='normal')(input_img)\n",
    "maxpool_1 = MaxPooling2D((2, 2),  padding='same')(conv_1)\n",
    "\n",
    "conv_2 = Conv2D(40, (3, 3), activation='relu', padding='same',kernel_initializer='normal')(maxpool_1)\n",
    "maxpool_2 = MaxPooling2D((2, 2),  padding='same')(conv_2)\n",
    "\n",
    "conv_3 = Conv2D(20, (3, 3), activation='relu', padding='same',kernel_initializer='normal')(maxpool_2)\n",
    "maxpool_3 = MaxPooling2D((2, 2),  padding='same')(conv_3)\n",
    "\n",
    "conv_4 = Conv2D(20, (3, 3), activation='relu', padding='same',kernel_initializer='normal')(maxpool_3)\n",
    "maxpool_4 = MaxPooling2D((2, 2),  padding='same')(conv_4)\n",
    "\n",
    "conv_5 = Conv2D(20, (3, 3), activation='relu', padding='same',kernel_initializer='normal')(maxpool_4)\n",
    "maxpool_5 = MaxPooling2D((2, 2),  padding='same')(conv_5)\n",
    "\n",
    "\n",
    "#x = Conv2D(5, (3, 3), activation='relu', padding='same',kernel_initializer='normal')(x)\n",
    "#x = MaxPooling2D((2, 2),  padding='same')(x)\n",
    "\n",
    "visual = Flatten()(maxpool_5)\n",
    "h_1 = Dense(intermediate_dim, activation='tanh')(visual)\n",
    "encoded = Dense(latent_dim, activation='relu')(h_1)\n",
    "\n",
    "z_mean = Dense(latent_dim)(h_1)\n",
    "z_log_var = Dense(latent_dim)(h_1)\n",
    "\n",
    "def sampling(args):   \n",
    "    z_mean, z_log_var = args  \n",
    "    epsilon = K.random_normal(shape=(batch_size, latent_dim), mean=0.,stddev=epsilon_std)\n",
    "    return z_mean + K.exp(z_log_var / 2)* epsilon\n",
    "\n",
    "z = Lambda(sampling, output_shape=(latent_dim,))([z_mean, z_log_var])\n",
    "\n",
    "if USE == 'vae':\n",
    "    h_3 = Dense(intermediate_dim,activation='tanh')(z)#for VAE\n",
    "\n",
    "if USE == 'autoencoder':\n",
    "    h_3 = Dense(intermediate_dim,activation='tanh')(encoded)#for AE\n",
    "    \n",
    "    \n",
    "h_4 = Dense(20*2*2,activation='relu')(h_3)\n",
    "h_5 = Reshape((2,2,20))(h_4)\n",
    "\n",
    "\n",
    "conv_6 = Conv2D(20, (3, 3), activation='relu', padding='same',kernel_initializer='normal')(h_5)\n",
    "upsample_6 = UpSampling2D((2, 2))(conv_6)\n",
    "\n",
    "conv_7 = Conv2D(20, (3, 3), activation='relu', padding='same',kernel_initializer='normal')(upsample_6)\n",
    "upsample_7 = UpSampling2D((2, 2))(conv_7)\n",
    "\n",
    "conv_8 = Conv2D(20, (3, 3), activation='relu', padding='same',kernel_initializer='normal')(upsample_7)\n",
    "upsample_8 = UpSampling2D((2, 2))(conv_8)\n",
    "\n",
    "conv_9 = Conv2D(40, (3, 3), activation='relu', padding='same',kernel_initializer='normal')(upsample_8)\n",
    "upsample_9 = UpSampling2D((2, 2))(conv_9)\n",
    "\n",
    "conv_10 = Conv2D(80,  (3, 3), activation='tanh',padding='same',kernel_initializer='normal')(upsample_9)\n",
    "upsample_10 = UpSampling2D((2, 2))(conv_10)\n",
    "\n",
    "decoded = Conv2D(5, (3, 3), activation='tanh', padding='same')(upsample_10)\n",
    "\n",
    "\n",
    "EarlyStopping = keras.callbacks.EarlyStopping(monitor='val_loss', min_delta=0, patience=10, verbose=0, mode='auto')\n",
    "\n",
    "\n",
    "def vae_loss(x, decoded):  \n",
    "    xent_loss = K.sum(K.sum(objectives.binary_crossentropy(x ,decoded),axis=-1),axis=-1)\n",
    "    kl_loss = - 0.5 * K.sum(1 + z_log_var - K.square(z_mean) - K.exp(z_log_var), axis=-1) \n",
    "    return xent_loss + 1*kl_loss  \n",
    "\n",
    "def ae_loss(x, decoded):  \n",
    "    xent_loss = original_dim * objectives.mean_squared_error(x,decoded)\n",
    "    return xent_loss\n",
    "\n",
    "if USE == 'autoencoder':\n",
    "    autoencoder = Model(inputs=input_img, outputs=decoded)\n",
    "    autoencoder.compile(optimizer='rmsprop', loss=ae_loss)\n",
    "if USE == 'vae':\n",
    "    vae = Model(inputs=input_img, outputs=decoded) \n",
    "    vae.compile(optimizer='rmsprop', loss=vae_loss) "
   ]
  },
  {
   "cell_type": "code",
   "execution_count": 68,
   "metadata": {
    "scrolled": true
   },
   "outputs": [
    {
     "name": "stdout",
     "output_type": "stream",
     "text": [
      "Train on 14000 samples, validate on 100 samples\n",
      "Epoch 1/15\n",
      "14000/14000 [==============================] - 24s - loss: -22432.5600 - val_loss: -22594.0117\n",
      "Epoch 2/15\n",
      "14000/14000 [==============================] - 22s - loss: -23243.6995 - val_loss: -23375.1094\n",
      "Epoch 3/15\n",
      "14000/14000 [==============================] - 22s - loss: -23492.1618 - val_loss: -23485.7617\n",
      "Epoch 4/15\n",
      "14000/14000 [==============================] - 23s - loss: -23607.9883 - val_loss: -23705.4141\n",
      "Epoch 5/15\n",
      "14000/14000 [==============================] - 23s - loss: -23626.8963 - val_loss: -23429.6602\n",
      "Epoch 6/15\n",
      "14000/14000 [==============================] - 23s - loss: -23648.7440 - val_loss: -23781.7500\n",
      "Epoch 7/15\n",
      "14000/14000 [==============================] - 23s - loss: -23679.9800 - val_loss: -23855.2559\n",
      "Epoch 8/15\n",
      "14000/14000 [==============================] - 22s - loss: -23714.6436 - val_loss: -23945.6699\n",
      "Epoch 9/15\n",
      "14000/14000 [==============================] - 22s - loss: -23742.9575 - val_loss: -23875.5273\n",
      "Epoch 10/15\n",
      "14000/14000 [==============================] - 23s - loss: -23752.1194 - val_loss: -23883.7344\n",
      "Epoch 11/15\n",
      "14000/14000 [==============================] - 22s - loss: -23752.1885 - val_loss: -23930.9453\n",
      "Epoch 12/15\n",
      "14000/14000 [==============================] - 22s - loss: -23762.2939 - val_loss: -23990.2383\n",
      "Epoch 13/15\n",
      "14000/14000 [==============================] - 22s - loss: -23769.9645 - val_loss: -23987.6230\n",
      "Epoch 14/15\n",
      "14000/14000 [==============================] - 23s - loss: -23772.4776 - val_loss: -23942.7734\n",
      "Epoch 15/15\n",
      "14000/14000 [==============================] - 23s - loss: -23773.4390 - val_loss: -23742.6660\n"
     ]
    },
    {
     "data": {
      "text/plain": [
       "<keras.callbacks.History at 0x7f12985c5da0>"
      ]
     },
     "execution_count": 68,
     "metadata": {},
     "output_type": "execute_result"
    }
   ],
   "source": [
    "vae.fit(train_data[:14000], train_data[:14000],\n",
    "        shuffle=True,\n",
    "        epochs=15,\n",
    "        batch_size=batch_size,\n",
    "        validation_data=(train_data[14000:14100],train_data[14000:14100]),callbacks=[EarlyStopping])"
   ]
  },
  {
   "cell_type": "code",
   "execution_count": 250,
   "metadata": {
    "collapsed": true
   },
   "outputs": [],
   "source": [
    "#vae.load_weights(\"15epoch_3hidden.h5\")\n",
    "#vae.save_weights(\"15epoch_3hidden_newone0808.h5\")"
   ]
  },
  {
   "cell_type": "code",
   "execution_count": 70,
   "metadata": {},
   "outputs": [],
   "source": [
    "vis = Model(input_img, z_mean)\n",
    "\n",
    "# display a 2D plot of the digit classes in the latent space\n",
    "x_vis = vis.predict(train_data[8500:14000], batch_size=batch_size)"
   ]
  },
  {
   "cell_type": "code",
   "execution_count": 71,
   "metadata": {
    "collapsed": true
   },
   "outputs": [],
   "source": [
    "n_points = np.shape(x_vis)[0]\n",
    "n_neighbors = 10\n",
    "n_components = 1\n",
    "isomap = manifold.Isomap(n_neighbors, n_components)\n",
    "hid_pred = vis.predict(train_data, batch_size=batch_size)\n",
    "Y_pred = isomap.fit_transform(hid_pred)"
   ]
  },
  {
   "cell_type": "code",
   "execution_count": 218,
   "metadata": {
    "collapsed": true
   },
   "outputs": [],
   "source": [
    "Y_pred = -Y_pred"
   ]
  },
  {
   "cell_type": "code",
   "execution_count": 219,
   "metadata": {},
   "outputs": [
    {
     "name": "stdout",
     "output_type": "stream",
     "text": [
      "predict abs with threshold above:\n",
      " 0.6785454545454546\n",
      " 67.85 %\n"
     ]
    }
   ],
   "source": [
    "count_ = 0\n",
    "for i in range(len(x_vis)):\n",
    "    if Y_pred[8500:14000][i]> -0.435:\n",
    "        count_+=1\n",
    "print(\"predict abs with threshold above:\\n\",count_/len(x_vis))\n",
    "print(\" %.4g\" % float(np.sum(Class[Class==1])/14142*100),\"%\")"
   ]
  },
  {
   "cell_type": "code",
   "execution_count": 220,
   "metadata": {},
   "outputs": [
    {
     "name": "stdout",
     "output_type": "stream",
     "text": [
      "0.909962484368\n",
      "864\n"
     ]
    }
   ],
   "source": [
    "count_gala = 0\n",
    "for i in range(len(hid_pred)):\n",
    "    if (Y_pred[i] >-0.435):\n",
    "        if Class[i]==1:\n",
    "            count_gala+=1\n",
    "print(count_gala/np.sum(Class[Class==1]))\n",
    "print(np.sum(Class[Class==1])-count_gala)"
   ]
  },
  {
   "cell_type": "code",
   "execution_count": 221,
   "metadata": {},
   "outputs": [
    {
     "name": "stdout",
     "output_type": "stream",
     "text": [
      "0.7998327293\n",
      "718.0\n"
     ]
    }
   ],
   "source": [
    "count_star = 0\n",
    "for i in range(len(hid_pred)):\n",
    "    if (Y_pred[i] <-0.435):\n",
    "        if Class[i]==0:\n",
    "            count_star+=1\n",
    "print(count_star/(len(hid_pred) - np.sum(Class[Class==1]) -np.sum(Class[Class==2])/2))\n",
    "print((len(hid_pred) - np.sum(Class[Class==1]) -np.sum(Class[Class==2])/2)-count_star)"
   ]
  },
  {
   "cell_type": "code",
   "execution_count": 222,
   "metadata": {},
   "outputs": [
    {
     "name": "stdout",
     "output_type": "stream",
     "text": [
      "total accuracy is: 0.888134634422\n"
     ]
    }
   ],
   "source": [
    "print(\"total accuracy is:\",1-((np.sum(Class[Class==1])-count_gala)+(len(hid_pred) - np.sum(Class[Class==1]) -np.sum(Class[Class==2])/2)-count_star)/len(Y_pred))"
   ]
  },
  {
   "cell_type": "markdown",
   "metadata": {},
   "source": [
    "# ROC curve"
   ]
  },
  {
   "cell_type": "code",
   "execution_count": 225,
   "metadata": {},
   "outputs": [
    {
     "name": "stdout",
     "output_type": "stream",
     "text": [
      "6000\n"
     ]
    }
   ],
   "source": [
    "thr_min = -3\n",
    "thr_max = 3\n",
    "test_accuracy = 0.001\n",
    "test_range = int((thr_max - thr_min)/test_accuracy)\n",
    "print(test_range)"
   ]
  },
  {
   "cell_type": "code",
   "execution_count": 226,
   "metadata": {},
   "outputs": [],
   "source": [
    "FP = []\n",
    "TP = []\n",
    "TN = []\n",
    "FN = []\n",
    "\n",
    "for i in range(test_range):\n",
    "    FP_temp = np.zeros((Y_pred.shape[0]))\n",
    "    TP_temp = np.zeros((Y_pred.shape[0]))\n",
    "    TN_temp = np.zeros((Y_pred.shape[0]))\n",
    "    FN_temp = np.zeros((Y_pred.shape[0]))\n",
    "    LA = np.zeros((Y_pred.shape[0],))\n",
    "    TA = np.ones((Y_pred.shape[0],))\n",
    "    thr_now = thr_min+ i*test_accuracy\n",
    "    LA[Y_pred[:,0] > thr_now] = 1\n",
    "    TA[Class ==0 ] = 0\n",
    "    TA[Class ==2 ] = 0\n",
    "    for j in range(Y_pred.shape[0]):\n",
    "        if LA[j]==0:\n",
    "            if TA[j]==1:\n",
    "                FP_temp[j] = 1\n",
    "            else:\n",
    "                TN_temp[j] = 1\n",
    "        else:\n",
    "            if TA[j] == 1:\n",
    "                TP_temp[j] = 1\n",
    "            else:\n",
    "                FN_temp[j] = 1\n",
    "    FP.append(FP_temp)\n",
    "    TP.append(TP_temp)\n",
    "    TN.append(TN_temp)\n",
    "    FN.append(FN_temp)"
   ]
  },
  {
   "cell_type": "code",
   "execution_count": 231,
   "metadata": {
    "collapsed": true
   },
   "outputs": [],
   "source": [
    "TPR = np.zeros((test_range,))\n",
    "FPR = np.zeros((test_range,))\n",
    "TPR = np.sum(TP,axis=-1)/(np.sum(TP,axis=-1)+np.sum(FN,axis=-1))\n",
    "FPR = np.sum(FP,axis=-1)/(np.sum(FP,axis=-1)+np.sum(TN,axis=-1))"
   ]
  },
  {
   "cell_type": "code",
   "execution_count": 232,
   "metadata": {},
   "outputs": [
    {
     "data": {
      "text/plain": [
       "array([ 0.68563647,  0.68563647,  0.68563647, ...,  0.90024938,\n",
       "        0.90024938,  0.90024938])"
      ]
     },
     "execution_count": 232,
     "metadata": {},
     "output_type": "execute_result"
    }
   ],
   "source": [
    "(TPR)"
   ]
  },
  {
   "cell_type": "code",
   "execution_count": 233,
   "metadata": {},
   "outputs": [
    {
     "data": {
      "text/plain": [
       "array([ 0.15789474,  0.15789474,  0.15789474, ...,  0.66521739,\n",
       "        0.66521739,  0.66521739])"
      ]
     },
     "execution_count": 233,
     "metadata": {},
     "output_type": "execute_result"
    }
   ],
   "source": [
    "FPR"
   ]
  },
  {
   "cell_type": "code",
   "execution_count": 268,
   "metadata": {},
   "outputs": [
    {
     "data": {
      "text/plain": [
       "<matplotlib.collections.PathCollection at 0x7f1296615fd0>"
      ]
     },
     "execution_count": 268,
     "metadata": {},
     "output_type": "execute_result"
    },
    {
     "data": {
      "image/png": "[encoded data removed]",
      "text/plain": [
       "<matplotlib.figure.Figure at 0x7f129a04f400>"
      ]
     },
     "metadata": {},
     "output_type": "display_data"
    }
   ],
   "source": [
    "plt.scatter(FPR,TPR,c=[i for i in range(6000)])\n",
    "\n",
    "plt.colorbar()\n",
    "plt.scatter(FPR[int((-0.435-thr_min)/test_accuracy-1)],TPR[int((-0.435-thr_min)/test_accuracy-1)],c=0,cmap='Set1')\n",
    "#chose from priori knowledge, Red\n",
    "plt.scatter(FPR[np.argmax((FPR-1)**2 + TPR**2)],TPR[np.argmax((FPR-1)**2 + TPR**2)],c=0,cmap='OrRd_r')\n",
    "#argmax, OrRed"
   ]
  },
  {
   "cell_type": "code",
   "execution_count": 236,
   "metadata": {},
   "outputs": [
    {
     "data": {
      "text/plain": [
       "0.19325842696629214"
      ]
     },
     "execution_count": 236,
     "metadata": {},
     "output_type": "execute_result"
    }
   ],
   "source": [
    "FPR[int((-0.435-thr_min)/test_accuracy-1)]"
   ]
  },
  {
   "cell_type": "code",
   "execution_count": 237,
   "metadata": {},
   "outputs": [
    {
     "data": {
      "text/plain": [
       "0.90136194799834912"
      ]
     },
     "execution_count": 237,
     "metadata": {},
     "output_type": "execute_result"
    }
   ],
   "source": [
    "TPR[int((-0.435-thr_min)/test_accuracy-1)]"
   ]
  },
  {
   "cell_type": "code",
   "execution_count": 266,
   "metadata": {},
   "outputs": [
    {
     "data": {
      "text/plain": [
       "0.087745839636913764"
      ]
     },
     "execution_count": 266,
     "metadata": {},
     "output_type": "execute_result"
    }
   ],
   "source": [
    "FPR[np.argmax((FPR-1)**2 + TPR**2)]"
   ]
  },
  {
   "cell_type": "code",
   "execution_count": 267,
   "metadata": {},
   "outputs": [
    {
     "data": {
      "text/plain": [
       "0.85872473931899973"
      ]
     },
     "execution_count": 267,
     "metadata": {},
     "output_type": "execute_result"
    }
   ],
   "source": [
    "TPR[np.argmax((FPR-1)**2 + TPR**2)]"
   ]
  },
  {
   "cell_type": "markdown",
   "metadata": {},
   "source": [
    "### The left strange shape is due to the unbanlanced density distribution"
   ]
  }
 ],
 "metadata": {
  "kernelspec": {
   "display_name": "Python 3",
   "language": "python",
   "name": "python3"
  },
  "language_info": {
   "codemirror_mode": {
    "name": "ipython",
    "version": 3
   },
   "file_extension": ".py",
   "mimetype": "text/x-python",
   "name": "python",
   "nbconvert_exporter": "python",
   "pygments_lexer": "ipython3",
   "version": "3.6.1"
  }
 },
 "nbformat": 4,
 "nbformat_minor": 2
}
